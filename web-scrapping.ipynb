{
 "cells": [
  {
   "cell_type": "markdown",
   "id": "d2e4f93a",
   "metadata": {},
   "source": [
    "# Mi primer web scrapping usando Libreria urllib"
   ]
  },
  {
   "cell_type": "code",
   "execution_count": null,
   "id": "be451ac8-3ddc-4ce0-9dd7-266849945530",
   "metadata": {
    "scrolled": true
   },
   "outputs": [],
   "source": [
    "import urllib.request\n",
    "x = urllib.request.urlopen('https://tallercreativoweb.com')\n",
    "print(x.read())"
   ]
  },
  {
   "cell_type": "code",
   "execution_count": 3,
   "id": "c52963a0-bea1-4998-a2f2-6ad73df674fb",
   "metadata": {},
   "outputs": [],
   "source": [
    "import urllib.request\n",
    "x = urllib.request.urlopen('https://tallercreativoweb.com')\n",
    "saveFile = open('tallercreativo.html','w')\n",
    "saveFile.write(str(x.read()))\n",
    "saveFile.close()"
   ]
  },
  {
   "cell_type": "code",
   "execution_count": 5,
   "id": "fafafc46-f53d-4c71-89ee-715f370e12c2",
   "metadata": {},
   "outputs": [],
   "source": [
    "import urllib.parse\n",
    "\n",
    "url='https://tallercreativoweb.com'\n",
    "\n",
    "resp =urllib.request.urlopen(url)\n",
    "respData = resp.read()\n",
    "\n",
    "saveFile = open('tallercreativo.html','w')\n",
    "saveFile.write(str(respData))\n",
    "saveFile.close()"
   ]
  }
 ],
 "metadata": {
  "kernelspec": {
   "display_name": "Python 3 (ipykernel)",
   "language": "python",
   "name": "python3"
  }
 },
 "nbformat": 4,
 "nbformat_minor": 5
}
