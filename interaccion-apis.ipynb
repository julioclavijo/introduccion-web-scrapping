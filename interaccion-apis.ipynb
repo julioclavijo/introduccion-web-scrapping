{
 "cells": [
  {
   "cell_type": "markdown",
   "metadata": {},
   "source": [
    "# Interaccion con APIs"
   ]
  },
  {
   "cell_type": "code",
   "execution_count": 9,
   "metadata": {},
   "outputs": [
    {
     "name": "stdout",
     "output_type": "stream",
     "text": [
      "200\n"
     ]
    },
    {
     "data": {
      "text/plain": [
       "{'login': 'Phali',\n",
       " 'id': 2603245,\n",
       " 'node_id': 'MDQ6VXNlcjI2MDMyNDU=',\n",
       " 'avatar_url': 'https://avatars.githubusercontent.com/u/2603245?v=4',\n",
       " 'gravatar_id': '',\n",
       " 'url': 'https://api.github.com/users/Phali',\n",
       " 'html_url': 'https://github.com/Phali',\n",
       " 'followers_url': 'https://api.github.com/users/Phali/followers',\n",
       " 'following_url': 'https://api.github.com/users/Phali/following{/other_user}',\n",
       " 'gists_url': 'https://api.github.com/users/Phali/gists{/gist_id}',\n",
       " 'starred_url': 'https://api.github.com/users/Phali/starred{/owner}{/repo}',\n",
       " 'subscriptions_url': 'https://api.github.com/users/Phali/subscriptions',\n",
       " 'organizations_url': 'https://api.github.com/users/Phali/orgs',\n",
       " 'repos_url': 'https://api.github.com/users/Phali/repos',\n",
       " 'events_url': 'https://api.github.com/users/Phali/events{/privacy}',\n",
       " 'received_events_url': 'https://api.github.com/users/Phali/received_events',\n",
       " 'type': 'User',\n",
       " 'site_admin': False,\n",
       " 'name': 'Nephtali Garrido-Gonzalez',\n",
       " 'company': 'Q.ai',\n",
       " 'blog': '',\n",
       " 'location': 'Mexico City',\n",
       " 'email': None,\n",
       " 'hireable': None,\n",
       " 'bio': 'Data scientist and quantitative researcher based in Mexico City. Two-time representative of Mexico at the International Olympiad in Informatics (2006 and 2007).',\n",
       " 'twitter_username': 'nephtaligarrido',\n",
       " 'public_repos': 12,\n",
       " 'public_gists': 0,\n",
       " 'followers': 5,\n",
       " 'following': 3,\n",
       " 'created_at': '2012-10-19T23:36:10Z',\n",
       " 'updated_at': '2024-02-28T18:25:53Z'}"
      ]
     },
     "execution_count": 9,
     "metadata": {},
     "output_type": "execute_result"
    }
   ],
   "source": [
    "import requests\n",
    "api_url = \"https://api.github.com/users/Phali\"\n",
    "response = requests.get (api_url)\n",
    "print(response.status_code)\n",
    "response.json()"
   ]
  },
  {
   "cell_type": "code",
   "execution_count": 18,
   "metadata": {},
   "outputs": [
    {
     "data": {
      "text/plain": [
       "{'userId': 1,\n",
       " 'id': 10,\n",
       " 'title': 'illo est ratione doloremque quia maiores aut',\n",
       " 'completed': True}"
      ]
     },
     "execution_count": 18,
     "metadata": {},
     "output_type": "execute_result"
    }
   ],
   "source": [
    "api_url = \"https://jsonplaceholder.typicode.com/todos/10\"\n",
    "response = requests.get(api_url)\n",
    "response.json()"
   ]
  },
  {
   "cell_type": "code",
   "execution_count": 19,
   "metadata": {},
   "outputs": [
    {
     "data": {
      "text/plain": [
       "200"
      ]
     },
     "execution_count": 19,
     "metadata": {},
     "output_type": "execute_result"
    }
   ],
   "source": [
    "response.status_code"
   ]
  },
  {
   "cell_type": "code",
   "execution_count": 20,
   "metadata": {},
   "outputs": [
    {
     "data": {
      "text/plain": [
       "'application/json; charset=utf-8'"
      ]
     },
     "execution_count": 20,
     "metadata": {},
     "output_type": "execute_result"
    }
   ],
   "source": [
    "response.headers[\"Content-Type\"]"
   ]
  },
  {
   "cell_type": "code",
   "execution_count": 25,
   "metadata": {},
   "outputs": [
    {
     "data": {
      "text/plain": [
       "{}"
      ]
     },
     "execution_count": 25,
     "metadata": {},
     "output_type": "execute_result"
    }
   ],
   "source": [
    "api_url = \"https://jsonplaceholder.typicode.com/todos\"\n",
    "\n",
    "tarea = {\"userId\": 1, \"title\": \"Comprar leche\", \"completed\": False}\n",
    "response = requests.put(api_url, json=tarea)\n",
    "response.json()"
   ]
  },
  {
   "cell_type": "code",
   "execution_count": 26,
   "metadata": {},
   "outputs": [
    {
     "data": {
      "text/plain": [
       "{'userId': 1,\n",
       " 'id': 10,\n",
       " 'title': 'illo est ratione doloremque quia maiores aut',\n",
       " 'completed': True}"
      ]
     },
     "execution_count": 26,
     "metadata": {},
     "output_type": "execute_result"
    }
   ],
   "source": [
    "api_url = \"https://jsonplaceholder.typicode.com/todos/10\"\n",
    "response = requests.get(api_url)\n",
    "response.json()"
   ]
  }
 ],
 "metadata": {
  "kernelspec": {
   "display_name": "Python 3 (ipykernel)",
   "language": "python",
   "name": "python3"
  },
  "language_info": {
   "codemirror_mode": {
    "name": "ipython",
    "version": 3
   },
   "file_extension": ".py",
   "mimetype": "text/x-python",
   "name": "python",
   "nbconvert_exporter": "python",
   "pygments_lexer": "ipython3",
   "version": "3.8.9"
  }
 },
 "nbformat": 4,
 "nbformat_minor": 2
}
